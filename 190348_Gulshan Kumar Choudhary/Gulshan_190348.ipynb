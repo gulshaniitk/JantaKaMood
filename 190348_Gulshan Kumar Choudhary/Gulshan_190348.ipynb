{
 "cells": [
  {
   "cell_type": "code",
   "execution_count": 37,
   "id": "fff3926c",
   "metadata": {},
   "outputs": [],
   "source": [
    "import pandas as pd\n",
    "import numpy as np\n",
    "import matplotlib.pyplot as plt"
   ]
  },
  {
   "cell_type": "code",
   "execution_count": 38,
   "id": "fed163fc",
   "metadata": {},
   "outputs": [
    {
     "data": {
      "text/html": [
       "<div>\n",
       "<style scoped>\n",
       "    .dataframe tbody tr th:only-of-type {\n",
       "        vertical-align: middle;\n",
       "    }\n",
       "\n",
       "    .dataframe tbody tr th {\n",
       "        vertical-align: top;\n",
       "    }\n",
       "\n",
       "    .dataframe thead th {\n",
       "        text-align: right;\n",
       "    }\n",
       "</style>\n",
       "<table border=\"1\" class=\"dataframe\">\n",
       "  <thead>\n",
       "    <tr style=\"text-align: right;\">\n",
       "      <th></th>\n",
       "      <th>AC_No</th>\n",
       "      <th>ACNameEn</th>\n",
       "      <th>PollingBoothNo</th>\n",
       "      <th>SectionNo</th>\n",
       "      <th>votersl</th>\n",
       "      <th>houseno</th>\n",
       "      <th>VIDNo</th>\n",
       "      <th>VoterNameEng</th>\n",
       "      <th>Votername</th>\n",
       "      <th>Sex</th>\n",
       "      <th>relationNameEng</th>\n",
       "      <th>relationname</th>\n",
       "      <th>relation</th>\n",
       "      <th>Age</th>\n",
       "      <th>SectionName</th>\n",
       "      <th>SectionNameEng</th>\n",
       "      <th>PollingStationAddressEn</th>\n",
       "      <th>PollingStationAddress</th>\n",
       "    </tr>\n",
       "  </thead>\n",
       "  <tbody>\n",
       "    <tr>\n",
       "      <th>0</th>\n",
       "      <td>223</td>\n",
       "      <td>Aurangabad</td>\n",
       "      <td>1</td>\n",
       "      <td>1</td>\n",
       "      <td>1</td>\n",
       "      <td>1</td>\n",
       "      <td>NCY2630614</td>\n",
       "      <td>saurav kumar</td>\n",
       "      <td>सौरव कुमार</td>\n",
       "      <td>Male</td>\n",
       "      <td>ashok prasad</td>\n",
       "      <td>अशोक प्रसाद</td>\n",
       "      <td>Father</td>\n",
       "      <td>22</td>\n",
       "      <td>जम्होर</td>\n",
       "      <td>Jamhor</td>\n",
       "      <td>Uchcha Vighalay Jamhor</td>\n",
       "      <td>उच्च विघालय  जम्होर</td>\n",
       "    </tr>\n",
       "    <tr>\n",
       "      <th>1</th>\n",
       "      <td>223</td>\n",
       "      <td>Aurangabad</td>\n",
       "      <td>1</td>\n",
       "      <td>1</td>\n",
       "      <td>2</td>\n",
       "      <td>2</td>\n",
       "      <td>NCY2464733</td>\n",
       "      <td>Sanjeev kumar Pandey</td>\n",
       "      <td>संजीव कुमार पाण्डेय</td>\n",
       "      <td>Male</td>\n",
       "      <td>Suresh Pandey</td>\n",
       "      <td>सुरेश पाण्डेय</td>\n",
       "      <td>Father</td>\n",
       "      <td>27</td>\n",
       "      <td>जम्होर</td>\n",
       "      <td>Jamhor</td>\n",
       "      <td>Uchcha Vighalay Jamhor</td>\n",
       "      <td>उच्च विघालय  जम्होर</td>\n",
       "    </tr>\n",
       "    <tr>\n",
       "      <th>2</th>\n",
       "      <td>223</td>\n",
       "      <td>Aurangabad</td>\n",
       "      <td>1</td>\n",
       "      <td>1</td>\n",
       "      <td>3</td>\n",
       "      <td>2</td>\n",
       "      <td>NCY2467843</td>\n",
       "      <td>Durgawati Devi</td>\n",
       "      <td>दुर्गावती` देवी</td>\n",
       "      <td>Female</td>\n",
       "      <td>Dudhnath paswan</td>\n",
       "      <td>दुधनाथ पासवान</td>\n",
       "      <td>Husband</td>\n",
       "      <td>57</td>\n",
       "      <td>जम्होर</td>\n",
       "      <td>Jamhor</td>\n",
       "      <td>Uchcha Vighalay Jamhor</td>\n",
       "      <td>उच्च विघालय  जम्होर</td>\n",
       "    </tr>\n",
       "    <tr>\n",
       "      <th>3</th>\n",
       "      <td>223</td>\n",
       "      <td>Aurangabad</td>\n",
       "      <td>1</td>\n",
       "      <td>1</td>\n",
       "      <td>4</td>\n",
       "      <td>2</td>\n",
       "      <td>NCY2467850</td>\n",
       "      <td>Dudhnath Paswan</td>\n",
       "      <td>दुधनाथ पासवान</td>\n",
       "      <td>Male</td>\n",
       "      <td>chhedi Paswan</td>\n",
       "      <td>छेदी पासवान</td>\n",
       "      <td>Father</td>\n",
       "      <td>68</td>\n",
       "      <td>जम्होर</td>\n",
       "      <td>Jamhor</td>\n",
       "      <td>Uchcha Vighalay Jamhor</td>\n",
       "      <td>उच्च विघालय  जम्होर</td>\n",
       "    </tr>\n",
       "    <tr>\n",
       "      <th>4</th>\n",
       "      <td>223</td>\n",
       "      <td>Aurangabad</td>\n",
       "      <td>1</td>\n",
       "      <td>1</td>\n",
       "      <td>5</td>\n",
       "      <td>3</td>\n",
       "      <td>NCY0415406</td>\n",
       "      <td>Sanjit kumar</td>\n",
       "      <td>संजीत कुमार</td>\n",
       "      <td>Male</td>\n",
       "      <td>Ramanand Paswan</td>\n",
       "      <td>रामानन्द पासवान</td>\n",
       "      <td>Father</td>\n",
       "      <td>24</td>\n",
       "      <td>जम्होर</td>\n",
       "      <td>Jamhor</td>\n",
       "      <td>Uchcha Vighalay Jamhor</td>\n",
       "      <td>उच्च विघालय  जम्होर</td>\n",
       "    </tr>\n",
       "  </tbody>\n",
       "</table>\n",
       "</div>"
      ],
      "text/plain": [
       "   AC_No    ACNameEn  PollingBoothNo  SectionNo  votersl houseno       VIDNo  \\\n",
       "0    223  Aurangabad               1          1        1       1  NCY2630614   \n",
       "1    223  Aurangabad               1          1        2       2  NCY2464733   \n",
       "2    223  Aurangabad               1          1        3       2  NCY2467843   \n",
       "3    223  Aurangabad               1          1        4       2  NCY2467850   \n",
       "4    223  Aurangabad               1          1        5       3  NCY0415406   \n",
       "\n",
       "           VoterNameEng            Votername     Sex  relationNameEng  \\\n",
       "0          saurav kumar           सौरव कुमार    Male     ashok prasad   \n",
       "1  Sanjeev kumar Pandey  संजीव कुमार पाण्डेय    Male    Suresh Pandey   \n",
       "2        Durgawati Devi      दुर्गावती` देवी  Female  Dudhnath paswan   \n",
       "3       Dudhnath Paswan        दुधनाथ पासवान    Male    chhedi Paswan   \n",
       "4          Sanjit kumar          संजीत कुमार    Male  Ramanand Paswan   \n",
       "\n",
       "      relationname relation  Age SectionName SectionNameEng  \\\n",
       "0      अशोक प्रसाद   Father   22      जम्होर         Jamhor   \n",
       "1    सुरेश पाण्डेय   Father   27      जम्होर         Jamhor   \n",
       "2    दुधनाथ पासवान  Husband   57      जम्होर         Jamhor   \n",
       "3      छेदी पासवान   Father   68      जम्होर         Jamhor   \n",
       "4  रामानन्द पासवान   Father   24      जम्होर         Jamhor   \n",
       "\n",
       "  PollingStationAddressEn PollingStationAddress  \n",
       "0  Uchcha Vighalay Jamhor   उच्च विघालय  जम्होर  \n",
       "1  Uchcha Vighalay Jamhor   उच्च विघालय  जम्होर  \n",
       "2  Uchcha Vighalay Jamhor   उच्च विघालय  जम्होर  \n",
       "3  Uchcha Vighalay Jamhor   उच्च विघालय  जम्होर  \n",
       "4  Uchcha Vighalay Jamhor   उच्च विघालय  जम्होर  "
      ]
     },
     "execution_count": 38,
     "metadata": {},
     "output_type": "execute_result"
    }
   ],
   "source": [
    "df=pd.read_excel('S04AC223.xlsx')\n",
    "df.head()"
   ]
  },
  {
   "cell_type": "code",
   "execution_count": 39,
   "id": "8cd3b02a",
   "metadata": {},
   "outputs": [
    {
     "data": {
      "text/plain": [
       "(93384, 18)"
      ]
     },
     "execution_count": 39,
     "metadata": {},
     "output_type": "execute_result"
    }
   ],
   "source": [
    "df.shape"
   ]
  },
  {
   "cell_type": "code",
   "execution_count": 40,
   "id": "7f7c0c8b",
   "metadata": {},
   "outputs": [
    {
     "data": {
      "text/plain": [
       "100"
      ]
     },
     "execution_count": 40,
     "metadata": {},
     "output_type": "execute_result"
    }
   ],
   "source": [
    "df.PollingBoothNo.max()"
   ]
  },
  {
   "cell_type": "code",
   "execution_count": 41,
   "id": "19adeb85",
   "metadata": {},
   "outputs": [
    {
     "data": {
      "text/plain": [
       "AC_No                          0\n",
       "ACNameEn                   11677\n",
       "PollingBoothNo                 0\n",
       "SectionNo                      0\n",
       "votersl                        0\n",
       "houseno                        0\n",
       "VIDNo                          0\n",
       "VoterNameEng                   0\n",
       "Votername                      0\n",
       "Sex                            0\n",
       "relationNameEng                0\n",
       "relationname                   0\n",
       "relation                       0\n",
       "Age                            0\n",
       "SectionName                11677\n",
       "SectionNameEng             11677\n",
       "PollingStationAddressEn    11677\n",
       "PollingStationAddress      11677\n",
       "dtype: int64"
      ]
     },
     "execution_count": 41,
     "metadata": {},
     "output_type": "execute_result"
    }
   ],
   "source": [
    "df.isnull().sum()"
   ]
  },
  {
   "cell_type": "code",
   "execution_count": 42,
   "id": "f319adb6",
   "metadata": {},
   "outputs": [
    {
     "data": {
      "text/plain": [
       "Index(['AC_No', 'ACNameEn', 'PollingBoothNo', 'SectionNo', 'votersl',\n",
       "       'houseno', 'VIDNo', 'VoterNameEng', 'Votername', 'Sex',\n",
       "       'relationNameEng', 'relationname', 'relation', 'Age', 'SectionName',\n",
       "       'SectionNameEng', 'PollingStationAddressEn', 'PollingStationAddress'],\n",
       "      dtype='object')"
      ]
     },
     "execution_count": 42,
     "metadata": {},
     "output_type": "execute_result"
    }
   ],
   "source": [
    "df.columns"
   ]
  },
  {
   "cell_type": "markdown",
   "id": "7ea37383",
   "metadata": {},
   "source": [
    "# 1.Which PollingBoothNo has the maximum number of under 30 female population?"
   ]
  },
  {
   "cell_type": "code",
   "execution_count": 43,
   "id": "617ef26f",
   "metadata": {},
   "outputs": [
    {
     "data": {
      "text/plain": [
       "PollingBoothNo\n",
       "1      1237\n",
       "2       886\n",
       "3      1257\n",
       "4       999\n",
       "5       864\n",
       "       ... \n",
       "96     1280\n",
       "97     1040\n",
       "98      992\n",
       "99      972\n",
       "100     615\n",
       "Name: VIDNo, Length: 100, dtype: int64"
      ]
     },
     "execution_count": 43,
     "metadata": {},
     "output_type": "execute_result"
    }
   ],
   "source": [
    "df.groupby('PollingBoothNo').VIDNo.count()"
   ]
  },
  {
   "cell_type": "code",
   "execution_count": 44,
   "id": "a4c02a0c",
   "metadata": {},
   "outputs": [
    {
     "data": {
      "text/plain": [
       "PollingBoothNo\n",
       "1      159\n",
       "2       93\n",
       "3      111\n",
       "4       72\n",
       "5       42\n",
       "      ... \n",
       "96     133\n",
       "97      60\n",
       "98     169\n",
       "99     101\n",
       "100    104\n",
       "Name: VIDNo, Length: 100, dtype: int64"
      ]
     },
     "execution_count": 44,
     "metadata": {},
     "output_type": "execute_result"
    }
   ],
   "source": [
    "df[(df['Age']<30) & (df['Sex']=='Female')].groupby('PollingBoothNo').VIDNo.count()"
   ]
  },
  {
   "cell_type": "code",
   "execution_count": 45,
   "id": "14a2cc28",
   "metadata": {},
   "outputs": [
    {
     "data": {
      "text/plain": [
       "204"
      ]
     },
     "execution_count": 45,
     "metadata": {},
     "output_type": "execute_result"
    }
   ],
   "source": [
    "df.loc[(df.Sex=='Female') & (df.Age<30)].groupby('PollingBoothNo').PollingBoothNo.count().max()"
   ]
  },
  {
   "cell_type": "code",
   "execution_count": 46,
   "id": "f250492c",
   "metadata": {},
   "outputs": [
    {
     "data": {
      "text/plain": [
       "PollingBoothNo\n",
       "45     29\n",
       "5      42\n",
       "71     47\n",
       "10     50\n",
       "80     52\n",
       "     ... \n",
       "98    169\n",
       "68    170\n",
       "54    173\n",
       "48    188\n",
       "53    204\n",
       "Name: VIDNo, Length: 100, dtype: int64"
      ]
     },
     "execution_count": 46,
     "metadata": {},
     "output_type": "execute_result"
    }
   ],
   "source": [
    "df[(df['Age']<30) & (df['Sex']=='Female')].groupby('PollingBoothNo').VIDNo.count().sort_values()"
   ]
  },
  {
   "cell_type": "markdown",
   "id": "c0503ffd",
   "metadata": {},
   "source": [
    "So,we can see here that PollingBoothNo 53 has the maximum number of under 30 Female voters."
   ]
  },
  {
   "cell_type": "code",
   "execution_count": null,
   "id": "a32e27f8",
   "metadata": {},
   "outputs": [],
   "source": []
  },
  {
   "cell_type": "markdown",
   "id": "1c04b7fd",
   "metadata": {},
   "source": [
    "# Q.2 Share a list of Head of family (HoF) for each household. HoF are individuals with maximum age in each family. \n",
    "A household is defined as members with same houseno grouped under PollingBoothNo, SectionNo."
   ]
  },
  {
   "cell_type": "code",
   "execution_count": 47,
   "id": "a7cab690",
   "metadata": {},
   "outputs": [
    {
     "data": {
      "text/html": [
       "<div>\n",
       "<style scoped>\n",
       "    .dataframe tbody tr th:only-of-type {\n",
       "        vertical-align: middle;\n",
       "    }\n",
       "\n",
       "    .dataframe tbody tr th {\n",
       "        vertical-align: top;\n",
       "    }\n",
       "\n",
       "    .dataframe thead th {\n",
       "        text-align: right;\n",
       "    }\n",
       "</style>\n",
       "<table border=\"1\" class=\"dataframe\">\n",
       "  <thead>\n",
       "    <tr style=\"text-align: right;\">\n",
       "      <th></th>\n",
       "      <th></th>\n",
       "      <th></th>\n",
       "      <th></th>\n",
       "      <th>AC_No</th>\n",
       "      <th>ACNameEn</th>\n",
       "      <th>PollingBoothNo</th>\n",
       "      <th>SectionNo</th>\n",
       "      <th>votersl</th>\n",
       "      <th>houseno</th>\n",
       "      <th>VIDNo</th>\n",
       "      <th>VoterNameEng</th>\n",
       "      <th>Votername</th>\n",
       "      <th>Sex</th>\n",
       "      <th>relationNameEng</th>\n",
       "      <th>relationname</th>\n",
       "      <th>relation</th>\n",
       "      <th>Age</th>\n",
       "      <th>SectionName</th>\n",
       "      <th>SectionNameEng</th>\n",
       "      <th>PollingStationAddressEn</th>\n",
       "      <th>PollingStationAddress</th>\n",
       "    </tr>\n",
       "    <tr>\n",
       "      <th>PollingBoothNo</th>\n",
       "      <th>SectionNo</th>\n",
       "      <th>houseno</th>\n",
       "      <th></th>\n",
       "      <th></th>\n",
       "      <th></th>\n",
       "      <th></th>\n",
       "      <th></th>\n",
       "      <th></th>\n",
       "      <th></th>\n",
       "      <th></th>\n",
       "      <th></th>\n",
       "      <th></th>\n",
       "      <th></th>\n",
       "      <th></th>\n",
       "      <th></th>\n",
       "      <th></th>\n",
       "      <th></th>\n",
       "      <th></th>\n",
       "      <th></th>\n",
       "      <th></th>\n",
       "      <th></th>\n",
       "    </tr>\n",
       "  </thead>\n",
       "  <tbody>\n",
       "    <tr>\n",
       "      <th rowspan=\"5\" valign=\"top\">1</th>\n",
       "      <th rowspan=\"5\" valign=\"top\">1</th>\n",
       "      <th>04</th>\n",
       "      <th>1003</th>\n",
       "      <td>223</td>\n",
       "      <td>Aurangabad</td>\n",
       "      <td>1</td>\n",
       "      <td>1</td>\n",
       "      <td>1199</td>\n",
       "      <td>04</td>\n",
       "      <td>NCY2723419</td>\n",
       "      <td>SAVITA DEVI</td>\n",
       "      <td>सविता देवी</td>\n",
       "      <td>Female</td>\n",
       "      <td>SHRAVAN KUMAR</td>\n",
       "      <td>श्रवण कुमार</td>\n",
       "      <td>Husband</td>\n",
       "      <td>28</td>\n",
       "      <td>जम्होर</td>\n",
       "      <td>Jamhor</td>\n",
       "      <td>Uchcha Vighalay Jamhor</td>\n",
       "      <td>उच्च विघालय  जम्होर</td>\n",
       "    </tr>\n",
       "    <tr>\n",
       "      <th>1</th>\n",
       "      <th>0</th>\n",
       "      <td>223</td>\n",
       "      <td>Aurangabad</td>\n",
       "      <td>1</td>\n",
       "      <td>1</td>\n",
       "      <td>1</td>\n",
       "      <td>1</td>\n",
       "      <td>NCY2630614</td>\n",
       "      <td>saurav kumar</td>\n",
       "      <td>सौरव कुमार</td>\n",
       "      <td>Male</td>\n",
       "      <td>ashok prasad</td>\n",
       "      <td>अशोक प्रसाद</td>\n",
       "      <td>Father</td>\n",
       "      <td>22</td>\n",
       "      <td>जम्होर</td>\n",
       "      <td>Jamhor</td>\n",
       "      <td>Uchcha Vighalay Jamhor</td>\n",
       "      <td>उच्च विघालय  जम्होर</td>\n",
       "    </tr>\n",
       "    <tr>\n",
       "      <th>10</th>\n",
       "      <th>76</th>\n",
       "      <td>223</td>\n",
       "      <td>Aurangabad</td>\n",
       "      <td>1</td>\n",
       "      <td>1</td>\n",
       "      <td>77</td>\n",
       "      <td>10</td>\n",
       "      <td>NCY0417469</td>\n",
       "      <td>Mina Devi</td>\n",
       "      <td>मीना देवी</td>\n",
       "      <td>Female</td>\n",
       "      <td>Sundar Chaudhari</td>\n",
       "      <td>सुंदर चौधरी</td>\n",
       "      <td>Husband</td>\n",
       "      <td>69</td>\n",
       "      <td>जम्होर</td>\n",
       "      <td>Jamhor</td>\n",
       "      <td>Uchcha Vighalay Jamhor</td>\n",
       "      <td>उच्च विघालय  जम्होर</td>\n",
       "    </tr>\n",
       "    <tr>\n",
       "      <th>11</th>\n",
       "      <th>84</th>\n",
       "      <td>223</td>\n",
       "      <td>Aurangabad</td>\n",
       "      <td>1</td>\n",
       "      <td>1</td>\n",
       "      <td>85</td>\n",
       "      <td>11</td>\n",
       "      <td>NCY1598366</td>\n",
       "      <td>Nand Keshwar Chaudhari</td>\n",
       "      <td>नंद केश्वार चौधरी</td>\n",
       "      <td>Male</td>\n",
       "      <td>Saharaj Chaudhari</td>\n",
       "      <td>सहराज चौधरी</td>\n",
       "      <td>Father</td>\n",
       "      <td>74</td>\n",
       "      <td>जम्होर</td>\n",
       "      <td>Jamhor</td>\n",
       "      <td>Uchcha Vighalay Jamhor</td>\n",
       "      <td>उच्च विघालय  जम्होर</td>\n",
       "    </tr>\n",
       "    <tr>\n",
       "      <th>12</th>\n",
       "      <th>103</th>\n",
       "      <td>223</td>\n",
       "      <td>Aurangabad</td>\n",
       "      <td>1</td>\n",
       "      <td>1</td>\n",
       "      <td>104</td>\n",
       "      <td>12</td>\n",
       "      <td>NCY0685719</td>\n",
       "      <td>Naurangi Singh</td>\n",
       "      <td>नौरंगी सिंह</td>\n",
       "      <td>Male</td>\n",
       "      <td>Dashai Singh</td>\n",
       "      <td>दशई सिंह</td>\n",
       "      <td>Father</td>\n",
       "      <td>84</td>\n",
       "      <td>जम्होर</td>\n",
       "      <td>Jamhor</td>\n",
       "      <td>Uchcha Vighalay Jamhor</td>\n",
       "      <td>उच्च विघालय  जम्होर</td>\n",
       "    </tr>\n",
       "    <tr>\n",
       "      <th>...</th>\n",
       "      <th>...</th>\n",
       "      <th>...</th>\n",
       "      <th>...</th>\n",
       "      <td>...</td>\n",
       "      <td>...</td>\n",
       "      <td>...</td>\n",
       "      <td>...</td>\n",
       "      <td>...</td>\n",
       "      <td>...</td>\n",
       "      <td>...</td>\n",
       "      <td>...</td>\n",
       "      <td>...</td>\n",
       "      <td>...</td>\n",
       "      <td>...</td>\n",
       "      <td>...</td>\n",
       "      <td>...</td>\n",
       "      <td>...</td>\n",
       "      <td>...</td>\n",
       "      <td>...</td>\n",
       "      <td>...</td>\n",
       "      <td>...</td>\n",
       "    </tr>\n",
       "    <tr>\n",
       "      <th rowspan=\"5\" valign=\"top\">100</th>\n",
       "      <th rowspan=\"5\" valign=\"top\">3</th>\n",
       "      <th>6</th>\n",
       "      <th>92906</th>\n",
       "      <td>223</td>\n",
       "      <td>Aurangabad</td>\n",
       "      <td>100</td>\n",
       "      <td>3</td>\n",
       "      <td>114</td>\n",
       "      <td>6</td>\n",
       "      <td>FPX2422855</td>\n",
       "      <td>Krishna Singh</td>\n",
       "      <td>कृष्ण सिंह</td>\n",
       "      <td>Male</td>\n",
       "      <td>Jagadayal Singh</td>\n",
       "      <td>जगदयाल सिंह</td>\n",
       "      <td>Father</td>\n",
       "      <td>68</td>\n",
       "      <td>ढोढ़ीबिगहा</td>\n",
       "      <td>DhodhiBigaha</td>\n",
       "      <td>Utkramit Madhya Vidyalay Bajitapur</td>\n",
       "      <td>उत्क्रमित मध्य विद्यालय बजितपुर</td>\n",
       "    </tr>\n",
       "    <tr>\n",
       "      <th>7</th>\n",
       "      <th>92930</th>\n",
       "      <td>223</td>\n",
       "      <td>Aurangabad</td>\n",
       "      <td>100</td>\n",
       "      <td>3</td>\n",
       "      <td>138</td>\n",
       "      <td>7</td>\n",
       "      <td>NCY2412849</td>\n",
       "      <td>Raja Ram</td>\n",
       "      <td>राजा राम</td>\n",
       "      <td>Male</td>\n",
       "      <td>Bijali Mochi</td>\n",
       "      <td>बिजली मोची</td>\n",
       "      <td>Father</td>\n",
       "      <td>77</td>\n",
       "      <td>ढोढ़ीबिगहा</td>\n",
       "      <td>DhodhiBigaha</td>\n",
       "      <td>Utkramit Madhya Vidyalay Bajitapur</td>\n",
       "      <td>उत्क्रमित मध्य विद्यालय बजितपुर</td>\n",
       "    </tr>\n",
       "    <tr>\n",
       "      <th>8</th>\n",
       "      <th>92934</th>\n",
       "      <td>223</td>\n",
       "      <td>Aurangabad</td>\n",
       "      <td>100</td>\n",
       "      <td>3</td>\n",
       "      <td>142</td>\n",
       "      <td>8</td>\n",
       "      <td>FPX5378765</td>\n",
       "      <td>Tejanarayan Singh</td>\n",
       "      <td>तेजनारायण सिंह</td>\n",
       "      <td>Male</td>\n",
       "      <td>Shiv Nandan Singh</td>\n",
       "      <td>शिव नंदन सिंह</td>\n",
       "      <td>Father</td>\n",
       "      <td>73</td>\n",
       "      <td>ढोढ़ीबिगहा</td>\n",
       "      <td>DhodhiBigaha</td>\n",
       "      <td>Utkramit Madhya Vidyalay Bajitapur</td>\n",
       "      <td>उत्क्रमित मध्य विद्यालय बजितपुर</td>\n",
       "    </tr>\n",
       "    <tr>\n",
       "      <th rowspan=\"2\" valign=\"top\">9</th>\n",
       "      <th>92976</th>\n",
       "      <td>223</td>\n",
       "      <td>Aurangabad</td>\n",
       "      <td>100</td>\n",
       "      <td>3</td>\n",
       "      <td>184</td>\n",
       "      <td>9</td>\n",
       "      <td>NCY2412757</td>\n",
       "      <td>Mina Devi</td>\n",
       "      <td>मीना देवी</td>\n",
       "      <td>Female</td>\n",
       "      <td>Niranjan Prasad</td>\n",
       "      <td>निरंजन प्रसाद</td>\n",
       "      <td>Husband</td>\n",
       "      <td>64</td>\n",
       "      <td>ढोढ़ीबिगहा</td>\n",
       "      <td>DhodhiBigaha</td>\n",
       "      <td>Utkramit Madhya Vidyalay Bajitapur</td>\n",
       "      <td>उत्क्रमित मध्य विद्यालय बजितपुर</td>\n",
       "    </tr>\n",
       "    <tr>\n",
       "      <th>92977</th>\n",
       "      <td>223</td>\n",
       "      <td>Aurangabad</td>\n",
       "      <td>100</td>\n",
       "      <td>3</td>\n",
       "      <td>185</td>\n",
       "      <td>9</td>\n",
       "      <td>NCY2412765</td>\n",
       "      <td>Mira Devi</td>\n",
       "      <td>मीरा देवी</td>\n",
       "      <td>Female</td>\n",
       "      <td>Binod lal</td>\n",
       "      <td>विनोद लाल</td>\n",
       "      <td>Husband</td>\n",
       "      <td>64</td>\n",
       "      <td>ढोढ़ीबिगहा</td>\n",
       "      <td>DhodhiBigaha</td>\n",
       "      <td>Utkramit Madhya Vidyalay Bajitapur</td>\n",
       "      <td>उत्क्रमित मध्य विद्यालय बजितपुर</td>\n",
       "    </tr>\n",
       "  </tbody>\n",
       "</table>\n",
       "<p>13714 rows × 18 columns</p>\n",
       "</div>"
      ],
      "text/plain": [
       "                                        AC_No    ACNameEn  PollingBoothNo  \\\n",
       "PollingBoothNo SectionNo houseno                                            \n",
       "1              1         04      1003     223  Aurangabad               1   \n",
       "                         1       0        223  Aurangabad               1   \n",
       "                         10      76       223  Aurangabad               1   \n",
       "                         11      84       223  Aurangabad               1   \n",
       "                         12      103      223  Aurangabad               1   \n",
       "...                                       ...         ...             ...   \n",
       "100            3         6       92906    223  Aurangabad             100   \n",
       "                         7       92930    223  Aurangabad             100   \n",
       "                         8       92934    223  Aurangabad             100   \n",
       "                         9       92976    223  Aurangabad             100   \n",
       "                                 92977    223  Aurangabad             100   \n",
       "\n",
       "                                        SectionNo  votersl houseno  \\\n",
       "PollingBoothNo SectionNo houseno                                     \n",
       "1              1         04      1003           1     1199      04   \n",
       "                         1       0              1        1       1   \n",
       "                         10      76             1       77      10   \n",
       "                         11      84             1       85      11   \n",
       "                         12      103            1      104      12   \n",
       "...                                           ...      ...     ...   \n",
       "100            3         6       92906          3      114       6   \n",
       "                         7       92930          3      138       7   \n",
       "                         8       92934          3      142       8   \n",
       "                         9       92976          3      184       9   \n",
       "                                 92977          3      185       9   \n",
       "\n",
       "                                             VIDNo            VoterNameEng  \\\n",
       "PollingBoothNo SectionNo houseno                                             \n",
       "1              1         04      1003   NCY2723419             SAVITA DEVI   \n",
       "                         1       0      NCY2630614            saurav kumar   \n",
       "                         10      76     NCY0417469               Mina Devi   \n",
       "                         11      84     NCY1598366  Nand Keshwar Chaudhari   \n",
       "                         12      103    NCY0685719          Naurangi Singh   \n",
       "...                                            ...                     ...   \n",
       "100            3         6       92906  FPX2422855           Krishna Singh   \n",
       "                         7       92930  NCY2412849                Raja Ram   \n",
       "                         8       92934  FPX5378765       Tejanarayan Singh   \n",
       "                         9       92976  NCY2412757               Mina Devi   \n",
       "                                 92977  NCY2412765               Mira Devi   \n",
       "\n",
       "                                                Votername     Sex  \\\n",
       "PollingBoothNo SectionNo houseno                                    \n",
       "1              1         04      1003          सविता देवी  Female   \n",
       "                         1       0             सौरव कुमार    Male   \n",
       "                         10      76             मीना देवी  Female   \n",
       "                         11      84     नंद केश्वार चौधरी    Male   \n",
       "                         12      103          नौरंगी सिंह    Male   \n",
       "...                                                   ...     ...   \n",
       "100            3         6       92906         कृष्ण सिंह    Male   \n",
       "                         7       92930           राजा राम    Male   \n",
       "                         8       92934     तेजनारायण सिंह    Male   \n",
       "                         9       92976          मीना देवी  Female   \n",
       "                                 92977          मीरा देवी  Female   \n",
       "\n",
       "                                          relationNameEng   relationname  \\\n",
       "PollingBoothNo SectionNo houseno                                           \n",
       "1              1         04      1003       SHRAVAN KUMAR    श्रवण कुमार   \n",
       "                         1       0           ashok prasad    अशोक प्रसाद   \n",
       "                         10      76      Sundar Chaudhari    सुंदर चौधरी   \n",
       "                         11      84     Saharaj Chaudhari    सहराज चौधरी   \n",
       "                         12      103         Dashai Singh       दशई सिंह   \n",
       "...                                                   ...            ...   \n",
       "100            3         6       92906    Jagadayal Singh    जगदयाल सिंह   \n",
       "                         7       92930       Bijali Mochi     बिजली मोची   \n",
       "                         8       92934  Shiv Nandan Singh  शिव नंदन सिंह   \n",
       "                         9       92976    Niranjan Prasad  निरंजन प्रसाद   \n",
       "                                 92977          Binod lal      विनोद लाल   \n",
       "\n",
       "                                       relation  Age SectionName  \\\n",
       "PollingBoothNo SectionNo houseno                                   \n",
       "1              1         04      1003   Husband   28      जम्होर   \n",
       "                         1       0       Father   22      जम्होर   \n",
       "                         10      76     Husband   69      जम्होर   \n",
       "                         11      84      Father   74      जम्होर   \n",
       "                         12      103     Father   84      जम्होर   \n",
       "...                                         ...  ...         ...   \n",
       "100            3         6       92906   Father   68  ढोढ़ीबिगहा   \n",
       "                         7       92930   Father   77  ढोढ़ीबिगहा   \n",
       "                         8       92934   Father   73  ढोढ़ीबिगहा   \n",
       "                         9       92976  Husband   64  ढोढ़ीबिगहा   \n",
       "                                 92977  Husband   64  ढोढ़ीबिगहा   \n",
       "\n",
       "                                       SectionNameEng  \\\n",
       "PollingBoothNo SectionNo houseno                        \n",
       "1              1         04      1003          Jamhor   \n",
       "                         1       0             Jamhor   \n",
       "                         10      76            Jamhor   \n",
       "                         11      84            Jamhor   \n",
       "                         12      103           Jamhor   \n",
       "...                                               ...   \n",
       "100            3         6       92906   DhodhiBigaha   \n",
       "                         7       92930   DhodhiBigaha   \n",
       "                         8       92934   DhodhiBigaha   \n",
       "                         9       92976   DhodhiBigaha   \n",
       "                                 92977   DhodhiBigaha   \n",
       "\n",
       "                                                   PollingStationAddressEn  \\\n",
       "PollingBoothNo SectionNo houseno                                             \n",
       "1              1         04      1003               Uchcha Vighalay Jamhor   \n",
       "                         1       0                  Uchcha Vighalay Jamhor   \n",
       "                         10      76                 Uchcha Vighalay Jamhor   \n",
       "                         11      84                 Uchcha Vighalay Jamhor   \n",
       "                         12      103                Uchcha Vighalay Jamhor   \n",
       "...                                                                    ...   \n",
       "100            3         6       92906  Utkramit Madhya Vidyalay Bajitapur   \n",
       "                         7       92930  Utkramit Madhya Vidyalay Bajitapur   \n",
       "                         8       92934  Utkramit Madhya Vidyalay Bajitapur   \n",
       "                         9       92976  Utkramit Madhya Vidyalay Bajitapur   \n",
       "                                 92977  Utkramit Madhya Vidyalay Bajitapur   \n",
       "\n",
       "                                                  PollingStationAddress  \n",
       "PollingBoothNo SectionNo houseno                                         \n",
       "1              1         04      1003               उच्च विघालय  जम्होर  \n",
       "                         1       0                  उच्च विघालय  जम्होर  \n",
       "                         10      76                 उच्च विघालय  जम्होर  \n",
       "                         11      84                 उच्च विघालय  जम्होर  \n",
       "                         12      103                उच्च विघालय  जम्होर  \n",
       "...                                                                 ...  \n",
       "100            3         6       92906  उत्क्रमित मध्य विद्यालय बजितपुर  \n",
       "                         7       92930  उत्क्रमित मध्य विद्यालय बजितपुर  \n",
       "                         8       92934  उत्क्रमित मध्य विद्यालय बजितपुर  \n",
       "                         9       92976  उत्क्रमित मध्य विद्यालय बजितपुर  \n",
       "                                 92977  उत्क्रमित मध्य विद्यालय बजितपुर  \n",
       "\n",
       "[13714 rows x 18 columns]"
      ]
     },
     "execution_count": 47,
     "metadata": {},
     "output_type": "execute_result"
    }
   ],
   "source": [
    "df.groupby([df.PollingBoothNo,df.SectionNo,df.houseno]).apply(lambda df:df[df.Age==df.Age.max()])\n"
   ]
  },
  {
   "cell_type": "code",
   "execution_count": null,
   "id": "0274759a",
   "metadata": {},
   "outputs": [],
   "source": []
  },
  {
   "cell_type": "markdown",
   "id": "03d2cf52",
   "metadata": {},
   "source": [
    "# Q.3 Split the VoterNameEng into FirstNameEng, MiddleNameEng and LastNameEng."
   ]
  },
  {
   "cell_type": "code",
   "execution_count": 48,
   "id": "b4d65daa",
   "metadata": {},
   "outputs": [],
   "source": [
    "df[['FirstNameEng','MidNameEng','LastNameEng']]=df.VoterNameEng.str.split(' ',2,expand=True)"
   ]
  },
  {
   "cell_type": "code",
   "execution_count": 49,
   "id": "1e3591f0",
   "metadata": {},
   "outputs": [
    {
     "data": {
      "text/html": [
       "<div>\n",
       "<style scoped>\n",
       "    .dataframe tbody tr th:only-of-type {\n",
       "        vertical-align: middle;\n",
       "    }\n",
       "\n",
       "    .dataframe tbody tr th {\n",
       "        vertical-align: top;\n",
       "    }\n",
       "\n",
       "    .dataframe thead th {\n",
       "        text-align: right;\n",
       "    }\n",
       "</style>\n",
       "<table border=\"1\" class=\"dataframe\">\n",
       "  <thead>\n",
       "    <tr style=\"text-align: right;\">\n",
       "      <th></th>\n",
       "      <th>VoterNameEng</th>\n",
       "      <th>FirstNameEng</th>\n",
       "      <th>MidNameEng</th>\n",
       "      <th>LastNameEng</th>\n",
       "    </tr>\n",
       "  </thead>\n",
       "  <tbody>\n",
       "    <tr>\n",
       "      <th>0</th>\n",
       "      <td>saurav kumar</td>\n",
       "      <td>saurav</td>\n",
       "      <td>kumar</td>\n",
       "      <td>None</td>\n",
       "    </tr>\n",
       "    <tr>\n",
       "      <th>1</th>\n",
       "      <td>Sanjeev kumar Pandey</td>\n",
       "      <td>Sanjeev</td>\n",
       "      <td>kumar</td>\n",
       "      <td>Pandey</td>\n",
       "    </tr>\n",
       "    <tr>\n",
       "      <th>2</th>\n",
       "      <td>Durgawati Devi</td>\n",
       "      <td>Durgawati</td>\n",
       "      <td>Devi</td>\n",
       "      <td>None</td>\n",
       "    </tr>\n",
       "    <tr>\n",
       "      <th>3</th>\n",
       "      <td>Dudhnath Paswan</td>\n",
       "      <td>Dudhnath</td>\n",
       "      <td>Paswan</td>\n",
       "      <td>None</td>\n",
       "    </tr>\n",
       "    <tr>\n",
       "      <th>4</th>\n",
       "      <td>Sanjit kumar</td>\n",
       "      <td>Sanjit</td>\n",
       "      <td>kumar</td>\n",
       "      <td>None</td>\n",
       "    </tr>\n",
       "    <tr>\n",
       "      <th>...</th>\n",
       "      <td>...</td>\n",
       "      <td>...</td>\n",
       "      <td>...</td>\n",
       "      <td>...</td>\n",
       "    </tr>\n",
       "    <tr>\n",
       "      <th>93379</th>\n",
       "      <td>Munni Singh</td>\n",
       "      <td>Munni</td>\n",
       "      <td>Singh</td>\n",
       "      <td>None</td>\n",
       "    </tr>\n",
       "    <tr>\n",
       "      <th>93380</th>\n",
       "      <td>Sunil Kumar Singh</td>\n",
       "      <td>Sunil</td>\n",
       "      <td>Kumar</td>\n",
       "      <td>Singh</td>\n",
       "    </tr>\n",
       "    <tr>\n",
       "      <th>93381</th>\n",
       "      <td>Pradip Kumar</td>\n",
       "      <td>Pradip</td>\n",
       "      <td>Kumar</td>\n",
       "      <td>None</td>\n",
       "    </tr>\n",
       "    <tr>\n",
       "      <th>93382</th>\n",
       "      <td>Santosh Kumar Singh</td>\n",
       "      <td>Santosh</td>\n",
       "      <td>Kumar</td>\n",
       "      <td>Singh</td>\n",
       "    </tr>\n",
       "    <tr>\n",
       "      <th>93383</th>\n",
       "      <td>Sunita Devi</td>\n",
       "      <td>Sunita</td>\n",
       "      <td>Devi</td>\n",
       "      <td>None</td>\n",
       "    </tr>\n",
       "  </tbody>\n",
       "</table>\n",
       "<p>93384 rows × 4 columns</p>\n",
       "</div>"
      ],
      "text/plain": [
       "               VoterNameEng FirstNameEng MidNameEng LastNameEng\n",
       "0              saurav kumar       saurav      kumar        None\n",
       "1      Sanjeev kumar Pandey      Sanjeev      kumar      Pandey\n",
       "2            Durgawati Devi    Durgawati       Devi        None\n",
       "3           Dudhnath Paswan     Dudhnath     Paswan        None\n",
       "4              Sanjit kumar       Sanjit      kumar        None\n",
       "...                     ...          ...        ...         ...\n",
       "93379           Munni Singh        Munni      Singh        None\n",
       "93380     Sunil Kumar Singh        Sunil      Kumar       Singh\n",
       "93381          Pradip Kumar       Pradip      Kumar        None\n",
       "93382   Santosh Kumar Singh      Santosh      Kumar       Singh\n",
       "93383           Sunita Devi       Sunita       Devi        None\n",
       "\n",
       "[93384 rows x 4 columns]"
      ]
     },
     "execution_count": 49,
     "metadata": {},
     "output_type": "execute_result"
    }
   ],
   "source": [
    "df[['VoterNameEng','FirstNameEng','MidNameEng','LastNameEng']]"
   ]
  },
  {
   "cell_type": "code",
   "execution_count": null,
   "id": "5e26a234",
   "metadata": {},
   "outputs": [],
   "source": []
  },
  {
   "cell_type": "markdown",
   "id": "2b65e694",
   "metadata": {},
   "source": [
    "# Q.4 What is the RelativeName of VoterNameEng ‘Gajala Praveen’ living in PollingBoothNo 19? "
   ]
  },
  {
   "cell_type": "code",
   "execution_count": 50,
   "id": "7211943a",
   "metadata": {},
   "outputs": [
    {
     "data": {
      "text/plain": [
       "17187    सरताज अहमद\n",
       "Name: relationname, dtype: object"
      ]
     },
     "execution_count": 50,
     "metadata": {},
     "output_type": "execute_result"
    }
   ],
   "source": [
    "df.loc[(df.VoterNameEng=='Gajala Praveen') & (df.PollingBoothNo==19)].relationname"
   ]
  },
  {
   "cell_type": "code",
   "execution_count": null,
   "id": "2c437946",
   "metadata": {},
   "outputs": [],
   "source": []
  },
  {
   "cell_type": "markdown",
   "id": "b084b88d",
   "metadata": {},
   "source": [
    "# Q.5 Prepare frequency distribution of the FirstName of VoterNameEng. What inference can you draw from this distribution? "
   ]
  },
  {
   "cell_type": "code",
   "execution_count": 51,
   "id": "450cadd5",
   "metadata": {},
   "outputs": [
    {
     "data": {
      "text/plain": [
       "Ram         1476\n",
       "Mohammad    1377\n",
       "Sunita       552\n",
       "Sanjay       534\n",
       "Shanti       520\n",
       "            ... \n",
       "Rubee          1\n",
       "bholi          1\n",
       "VAHIDA         1\n",
       "Sibha          1\n",
       "Rebun          1\n",
       "Name: FirstNameEng, Length: 14703, dtype: int64"
      ]
     },
     "execution_count": 51,
     "metadata": {},
     "output_type": "execute_result"
    }
   ],
   "source": [
    "df['FirstNameEng'].value_counts()"
   ]
  },
  {
   "cell_type": "code",
   "execution_count": null,
   "id": "554caa41",
   "metadata": {},
   "outputs": [],
   "source": []
  },
  {
   "cell_type": "markdown",
   "id": "4d370d77",
   "metadata": {},
   "source": [
    "# Q.6 Share the percentage distribution of each surname (last name) of VoterNameEng."
   ]
  },
  {
   "cell_type": "code",
   "execution_count": 52,
   "id": "a7bd2362",
   "metadata": {},
   "outputs": [
    {
     "data": {
      "text/plain": [
       "Singh        3551\n",
       "Devi         1170\n",
       "Yadav         958\n",
       "Ram           635\n",
       "              448\n",
       "             ... \n",
       "SHANDILYA       1\n",
       "najeer          1\n",
       "SAHRMA          1\n",
       "shadab          1\n",
       "PRAWEEN         1\n",
       "Name: LastNameEng, Length: 1022, dtype: int64"
      ]
     },
     "execution_count": 52,
     "metadata": {},
     "output_type": "execute_result"
    }
   ],
   "source": [
    "lastname_count=df['LastNameEng'].value_counts()\n",
    "lastname_count"
   ]
  },
  {
   "cell_type": "code",
   "execution_count": 53,
   "id": "e184a6aa",
   "metadata": {},
   "outputs": [
    {
     "data": {
      "text/plain": [
       "Singh        25.012327\n",
       "Devi          8.241178\n",
       "Yadav         6.747904\n",
       "Ram           4.472776\n",
       "              3.155596\n",
       "               ...    \n",
       "SHANDILYA     0.007044\n",
       "najeer        0.007044\n",
       "SAHRMA        0.007044\n",
       "shadab        0.007044\n",
       "PRAWEEN       0.007044\n",
       "Name: LastNameEng, Length: 1022, dtype: float64"
      ]
     },
     "execution_count": 53,
     "metadata": {},
     "output_type": "execute_result"
    }
   ],
   "source": [
    "lastname_percent=df['LastNameEng'].value_counts(normalize=True)*100\n",
    "lastname_percent"
   ]
  },
  {
   "cell_type": "code",
   "execution_count": null,
   "id": "fd42df67",
   "metadata": {},
   "outputs": [],
   "source": []
  },
  {
   "cell_type": "markdown",
   "id": "a295691f",
   "metadata": {},
   "source": [
    "# Q.7 There are manual data entry errors in surnames like Sharma is spelled incorrectly as Sarma, Yadav is spelled as Yadv.\n",
    "What approach should we use to correct these spelling errors? Is there any R package that can help us for the same?"
   ]
  },
  {
   "cell_type": "code",
   "execution_count": 54,
   "id": "fb3eb947",
   "metadata": {},
   "outputs": [],
   "source": [
    "# Q.7: 'spellchecker' is the required library for spelling check and correction in python.\n",
    "\n",
    "df.VoterNameEng=df.VoterNameEng.str.strip().str.replace('Sarma','Sharma')\n",
    "df.VoterNameEng=df.VoterNameEng.str.strip().str.replace('Yadv','Yadav')\n",
    "df.LastNameEng=df.LastNameEng.str.strip().str.replace('Sarma','Sharma')\n",
    "df.LastNameEng=df.LastNameEng.str.strip().str.replace('Yadv','Yadav')\n",
    "df.MidNameEng=df.MidNameEng.str.strip().str.replace('Sarma','Sharma')\n",
    "df.MidNameEng=df.MidNameEng.str.strip().str.replace('Yadv','Yadav')"
   ]
  },
  {
   "cell_type": "code",
   "execution_count": 56,
   "id": "ba1a322c",
   "metadata": {},
   "outputs": [
    {
     "data": {
      "text/html": [
       "<div>\n",
       "<style scoped>\n",
       "    .dataframe tbody tr th:only-of-type {\n",
       "        vertical-align: middle;\n",
       "    }\n",
       "\n",
       "    .dataframe tbody tr th {\n",
       "        vertical-align: top;\n",
       "    }\n",
       "\n",
       "    .dataframe thead th {\n",
       "        text-align: right;\n",
       "    }\n",
       "</style>\n",
       "<table border=\"1\" class=\"dataframe\">\n",
       "  <thead>\n",
       "    <tr style=\"text-align: right;\">\n",
       "      <th></th>\n",
       "      <th>AC_No</th>\n",
       "      <th>ACNameEn</th>\n",
       "      <th>PollingBoothNo</th>\n",
       "      <th>SectionNo</th>\n",
       "      <th>votersl</th>\n",
       "      <th>houseno</th>\n",
       "      <th>VIDNo</th>\n",
       "      <th>VoterNameEng</th>\n",
       "      <th>Votername</th>\n",
       "      <th>Sex</th>\n",
       "      <th>...</th>\n",
       "      <th>relationname</th>\n",
       "      <th>relation</th>\n",
       "      <th>Age</th>\n",
       "      <th>SectionName</th>\n",
       "      <th>SectionNameEng</th>\n",
       "      <th>PollingStationAddressEn</th>\n",
       "      <th>PollingStationAddress</th>\n",
       "      <th>FirstNameEng</th>\n",
       "      <th>MidNameEng</th>\n",
       "      <th>LastNameEng</th>\n",
       "    </tr>\n",
       "  </thead>\n",
       "  <tbody>\n",
       "  </tbody>\n",
       "</table>\n",
       "<p>0 rows × 21 columns</p>\n",
       "</div>"
      ],
      "text/plain": [
       "Empty DataFrame\n",
       "Columns: [AC_No, ACNameEn, PollingBoothNo, SectionNo, votersl, houseno, VIDNo, VoterNameEng, Votername, Sex, relationNameEng, relationname, relation, Age, SectionName, SectionNameEng, PollingStationAddressEn, PollingStationAddress, FirstNameEng, MidNameEng, LastNameEng]\n",
       "Index: []\n",
       "\n",
       "[0 rows x 21 columns]"
      ]
     },
     "execution_count": 56,
     "metadata": {},
     "output_type": "execute_result"
    }
   ],
   "source": [
    "df[df['LastNameEng']=='Sarma']"
   ]
  },
  {
   "cell_type": "code",
   "execution_count": 58,
   "id": "d5d88f73",
   "metadata": {},
   "outputs": [
    {
     "data": {
      "text/html": [
       "<div>\n",
       "<style scoped>\n",
       "    .dataframe tbody tr th:only-of-type {\n",
       "        vertical-align: middle;\n",
       "    }\n",
       "\n",
       "    .dataframe tbody tr th {\n",
       "        vertical-align: top;\n",
       "    }\n",
       "\n",
       "    .dataframe thead th {\n",
       "        text-align: right;\n",
       "    }\n",
       "</style>\n",
       "<table border=\"1\" class=\"dataframe\">\n",
       "  <thead>\n",
       "    <tr style=\"text-align: right;\">\n",
       "      <th></th>\n",
       "      <th>AC_No</th>\n",
       "      <th>ACNameEn</th>\n",
       "      <th>PollingBoothNo</th>\n",
       "      <th>SectionNo</th>\n",
       "      <th>votersl</th>\n",
       "      <th>houseno</th>\n",
       "      <th>VIDNo</th>\n",
       "      <th>VoterNameEng</th>\n",
       "      <th>Votername</th>\n",
       "      <th>Sex</th>\n",
       "      <th>...</th>\n",
       "      <th>relationname</th>\n",
       "      <th>relation</th>\n",
       "      <th>Age</th>\n",
       "      <th>SectionName</th>\n",
       "      <th>SectionNameEng</th>\n",
       "      <th>PollingStationAddressEn</th>\n",
       "      <th>PollingStationAddress</th>\n",
       "      <th>FirstNameEng</th>\n",
       "      <th>MidNameEng</th>\n",
       "      <th>LastNameEng</th>\n",
       "    </tr>\n",
       "  </thead>\n",
       "  <tbody>\n",
       "  </tbody>\n",
       "</table>\n",
       "<p>0 rows × 21 columns</p>\n",
       "</div>"
      ],
      "text/plain": [
       "Empty DataFrame\n",
       "Columns: [AC_No, ACNameEn, PollingBoothNo, SectionNo, votersl, houseno, VIDNo, VoterNameEng, Votername, Sex, relationNameEng, relationname, relation, Age, SectionName, SectionNameEng, PollingStationAddressEn, PollingStationAddress, FirstNameEng, MidNameEng, LastNameEng]\n",
       "Index: []\n",
       "\n",
       "[0 rows x 21 columns]"
      ]
     },
     "execution_count": 58,
     "metadata": {},
     "output_type": "execute_result"
    }
   ],
   "source": [
    "df[df['LastNameEng']=='Yadv']"
   ]
  },
  {
   "cell_type": "code",
   "execution_count": null,
   "id": "4821891f",
   "metadata": {},
   "outputs": [],
   "source": []
  },
  {
   "cell_type": "markdown",
   "id": "1b9dfd84",
   "metadata": {},
   "source": [
    "# Q.8 How many families are there in the dataset? Group_by on PollingBoothNo, SectionNo, houseno\n"
   ]
  },
  {
   "cell_type": "code",
   "execution_count": 59,
   "id": "84902aea",
   "metadata": {},
   "outputs": [
    {
     "data": {
      "text/plain": [
       "PollingBoothNo  SectionNo  houseno\n",
       "1               1          04          2\n",
       "                           1           1\n",
       "                           10         12\n",
       "                           11         15\n",
       "                           12          9\n",
       "                                      ..\n",
       "100             3          5           5\n",
       "                           6          13\n",
       "                           7          15\n",
       "                           8          40\n",
       "                           9           5\n",
       "Name: VIDNo, Length: 13136, dtype: int64"
      ]
     },
     "execution_count": 59,
     "metadata": {},
     "output_type": "execute_result"
    }
   ],
   "source": [
    "df.groupby(['PollingBoothNo','SectionNo','houseno']).VIDNo.count()"
   ]
  },
  {
   "cell_type": "markdown",
   "id": "32f266fb",
   "metadata": {},
   "source": [
    "So, there are total 13136 families."
   ]
  },
  {
   "cell_type": "code",
   "execution_count": null,
   "id": "08526aca",
   "metadata": {},
   "outputs": [],
   "source": []
  },
  {
   "cell_type": "markdown",
   "id": "60aac2ad",
   "metadata": {},
   "source": [
    "# Q.9 As per dataset, what is the average family size in the households? "
   ]
  },
  {
   "cell_type": "code",
   "execution_count": 60,
   "id": "d3a28a0d",
   "metadata": {},
   "outputs": [],
   "source": [
    "total_family=13136\n",
    "total_voter=df.VIDNo.count()"
   ]
  },
  {
   "cell_type": "code",
   "execution_count": 61,
   "id": "633e10b8",
   "metadata": {},
   "outputs": [
    {
     "data": {
      "text/plain": [
       "7.1090133982947625"
      ]
     },
     "execution_count": 61,
     "metadata": {},
     "output_type": "execute_result"
    }
   ],
   "source": [
    "avg_family_size=total_voter/total_family\n",
    "avg_family_size"
   ]
  },
  {
   "cell_type": "markdown",
   "id": "e61544fe",
   "metadata": {},
   "source": [
    "So, we can say that average family size is approx 7 ."
   ]
  },
  {
   "cell_type": "code",
   "execution_count": null,
   "id": "33c28760",
   "metadata": {},
   "outputs": [],
   "source": []
  },
  {
   "cell_type": "markdown",
   "id": "d17a8d57",
   "metadata": {},
   "source": [
    "# Q.10 Which area has the highest population? An area is the same as SectionNameEng?"
   ]
  },
  {
   "cell_type": "code",
   "execution_count": 62,
   "id": "75425ae3",
   "metadata": {},
   "outputs": [
    {
     "data": {
      "text/plain": [
       "Tola Rangal Bigaha       1\n",
       "Devariya Rustam          1\n",
       "Tole Bhuiya  Vigha       1\n",
       "Devariya Kala            1\n",
       "Bhuiya Bigaha            1\n",
       "                      ... \n",
       "Badawan               1664\n",
       "Kushi                 1868\n",
       "Fesar                 2093\n",
       "Jhikatiya             2185\n",
       "Jamhor                5241\n",
       "Name: SectionNameEng, Length: 117, dtype: int64"
      ]
     },
     "execution_count": 62,
     "metadata": {},
     "output_type": "execute_result"
    }
   ],
   "source": [
    "df.SectionNameEng.value_counts().sort_values()\n"
   ]
  },
  {
   "cell_type": "markdown",
   "id": "391bea57",
   "metadata": {},
   "source": [
    "So, Jamhor has the highest population."
   ]
  },
  {
   "cell_type": "code",
   "execution_count": null,
   "id": "bbc3743a",
   "metadata": {},
   "outputs": [],
   "source": []
  }
 ],
 "metadata": {
  "kernelspec": {
   "display_name": "Python 3",
   "language": "python",
   "name": "python3"
  },
  "language_info": {
   "codemirror_mode": {
    "name": "ipython",
    "version": 3
   },
   "file_extension": ".py",
   "mimetype": "text/x-python",
   "name": "python",
   "nbconvert_exporter": "python",
   "pygments_lexer": "ipython3",
   "version": "3.9.5"
  }
 },
 "nbformat": 4,
 "nbformat_minor": 5
}
